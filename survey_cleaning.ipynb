{
 "cells": [
  {
   "cell_type": "markdown",
   "metadata": {},
   "source": [
    "# Innisfil Groceries Survey"
   ]
  },
  {
   "cell_type": "code",
   "execution_count": 1,
   "metadata": {},
   "outputs": [],
   "source": [
    "import pandas as pd"
   ]
  },
  {
   "cell_type": "code",
   "execution_count": 2,
   "metadata": {},
   "outputs": [],
   "source": [
    "df = pd.read_csv('apr17_survey.csv', encoding = 'UTF-8')"
   ]
  },
  {
   "cell_type": "code",
   "execution_count": 3,
   "metadata": {},
   "outputs": [
    {
     "data": {
      "text/html": [
       "<div>\n",
       "<style scoped>\n",
       "    .dataframe tbody tr th:only-of-type {\n",
       "        vertical-align: middle;\n",
       "    }\n",
       "\n",
       "    .dataframe tbody tr th {\n",
       "        vertical-align: top;\n",
       "    }\n",
       "\n",
       "    .dataframe thead th {\n",
       "        text-align: right;\n",
       "    }\n",
       "</style>\n",
       "<table border=\"1\" class=\"dataframe\">\n",
       "  <thead>\n",
       "    <tr style=\"text-align: right;\">\n",
       "      <th></th>\n",
       "      <th>Timestamp</th>\n",
       "      <th>Where in Innisfil do you live?</th>\n",
       "      <th>What grocery store do you visit most?</th>\n",
       "      <th>Have you ever ordered food or groceries online? (Excluding things like prepared food from restaurants, pizza, etc.)</th>\n",
       "      <th>Would you ever order groceries online?</th>\n",
       "      <th>If you did, would you want it picked up or delivered?</th>\n",
       "      <th>How much would you pay for delivery?</th>\n",
       "      <th>How often do you visit the Innisfil Farmers Market?</th>\n",
       "      <th>Do you ever visit farmers in our area (in Innisfil or adjacent) directly to purchase food?</th>\n",
       "      <th>On a scale of 1 - 5, how important is it to you to shop local?</th>\n",
       "      <th>Can you describe if and how COVID-19 has impacted your food purchases?</th>\n",
       "      <th>Please let us know any of your thoughts, feelings, or frustrations around buying or selling groceries in the Innisfil area.</th>\n",
       "      <th>If you wish to be contacted to set up a 15 minute phone call to discuss these issues further, please leave us your email.</th>\n",
       "    </tr>\n",
       "  </thead>\n",
       "  <tbody>\n",
       "    <tr>\n",
       "      <th>0</th>\n",
       "      <td>4/14/2020 18:43:01</td>\n",
       "      <td>Cookstown</td>\n",
       "      <td>Cookstown Foodland</td>\n",
       "      <td>No</td>\n",
       "      <td>Yes</td>\n",
       "      <td>Delivery</td>\n",
       "      <td>5-10</td>\n",
       "      <td>A few times a year</td>\n",
       "      <td>Yes, Stonehorse and Sheldon Creek</td>\n",
       "      <td>5.0</td>\n",
       "      <td>More canned goods, potato chips</td>\n",
       "      <td>NaN</td>\n",
       "      <td>NaN</td>\n",
       "    </tr>\n",
       "    <tr>\n",
       "      <th>1</th>\n",
       "      <td>4/14/2020 18:47:06</td>\n",
       "      <td>Cookstown</td>\n",
       "      <td>Walmart</td>\n",
       "      <td>No</td>\n",
       "      <td>Maybe</td>\n",
       "      <td>Pick Up</td>\n",
       "      <td>$10</td>\n",
       "      <td>Almost never</td>\n",
       "      <td>Sometimes!</td>\n",
       "      <td>5.0</td>\n",
       "      <td>Shopping at Foodland!</td>\n",
       "      <td>Can be expensive at smaller stores</td>\n",
       "      <td>NaN</td>\n",
       "    </tr>\n",
       "    <tr>\n",
       "      <th>2</th>\n",
       "      <td>4/14/2020 18:47:17</td>\n",
       "      <td>Cookstown</td>\n",
       "      <td>Foodland Cookstown</td>\n",
       "      <td>Yes</td>\n",
       "      <td>Yes</td>\n",
       "      <td>Delivery</td>\n",
       "      <td>$10</td>\n",
       "      <td>Approximately once a month</td>\n",
       "      <td>Yes</td>\n",
       "      <td>5.0</td>\n",
       "      <td>Not happy with lack of local food available</td>\n",
       "      <td>NaN</td>\n",
       "      <td>NaN</td>\n",
       "    </tr>\n",
       "    <tr>\n",
       "      <th>3</th>\n",
       "      <td>4/14/2020 19:01:45</td>\n",
       "      <td>Alcona</td>\n",
       "      <td>Sobey's Alcona</td>\n",
       "      <td>No</td>\n",
       "      <td>Yes</td>\n",
       "      <td>Pick Up</td>\n",
       "      <td>$20</td>\n",
       "      <td>Almost never</td>\n",
       "      <td>I have in the past for eggs, but on rare occasion</td>\n",
       "      <td>4.0</td>\n",
       "      <td>Purchasing on a budget and visiting one shop i...</td>\n",
       "      <td>No health food stores such as Farm Boy or Good...</td>\n",
       "      <td>ampower97@gmail.com</td>\n",
       "    </tr>\n",
       "    <tr>\n",
       "      <th>4</th>\n",
       "      <td>4/14/2020 19:04:00</td>\n",
       "      <td>Cookstown</td>\n",
       "      <td>Cookstown Foodland</td>\n",
       "      <td>Yes</td>\n",
       "      <td>No</td>\n",
       "      <td>Pick Up</td>\n",
       "      <td>NaN</td>\n",
       "      <td>Approximately once a month</td>\n",
       "      <td>Yes</td>\n",
       "      <td>5.0</td>\n",
       "      <td>Only shopping once every week and a half since...</td>\n",
       "      <td>NaN</td>\n",
       "      <td>NaN</td>\n",
       "    </tr>\n",
       "  </tbody>\n",
       "</table>\n",
       "</div>"
      ],
      "text/plain": [
       "            Timestamp Where in Innisfil do you live?  \\\n",
       "0  4/14/2020 18:43:01                      Cookstown   \n",
       "1  4/14/2020 18:47:06                      Cookstown   \n",
       "2  4/14/2020 18:47:17                      Cookstown   \n",
       "3  4/14/2020 19:01:45                         Alcona   \n",
       "4  4/14/2020 19:04:00                      Cookstown   \n",
       "\n",
       "  What grocery store do you visit most?  \\\n",
       "0                    Cookstown Foodland   \n",
       "1                               Walmart   \n",
       "2                   Foodland Cookstown    \n",
       "3                        Sobey's Alcona   \n",
       "4                   Cookstown Foodland    \n",
       "\n",
       "  Have you ever ordered food or groceries online? (Excluding things like prepared food from restaurants, pizza, etc.)  \\\n",
       "0                                                 No                                                                    \n",
       "1                                                 No                                                                    \n",
       "2                                                Yes                                                                    \n",
       "3                                                 No                                                                    \n",
       "4                                                Yes                                                                    \n",
       "\n",
       "  Would you ever order groceries online?  \\\n",
       "0                                    Yes   \n",
       "1                                  Maybe   \n",
       "2                                    Yes   \n",
       "3                                    Yes   \n",
       "4                                     No   \n",
       "\n",
       "  If you did, would you want it picked up or delivered?  \\\n",
       "0                                           Delivery      \n",
       "1                                            Pick Up      \n",
       "2                                           Delivery      \n",
       "3                                            Pick Up      \n",
       "4                                            Pick Up      \n",
       "\n",
       "  How much would you pay for delivery?   \\\n",
       "0                                 5-10    \n",
       "1                                   $10   \n",
       "2                                   $10   \n",
       "3                                   $20   \n",
       "4                                   NaN   \n",
       "\n",
       "  How often do you visit the Innisfil Farmers Market?   \\\n",
       "0                                 A few times a year     \n",
       "1                                       Almost never     \n",
       "2                         Approximately once a month     \n",
       "3                                       Almost never     \n",
       "4                         Approximately once a month     \n",
       "\n",
       "  Do you ever visit farmers in our area (in Innisfil or adjacent) directly to purchase food?   \\\n",
       "0                  Yes, Stonehorse and Sheldon Creek                                            \n",
       "1                                         Sometimes!                                            \n",
       "2                                                Yes                                            \n",
       "3  I have in the past for eggs, but on rare occasion                                            \n",
       "4                                                Yes                                            \n",
       "\n",
       "   On a scale of 1 - 5, how important is it to you to shop local?   \\\n",
       "0                                                5.0                 \n",
       "1                                                5.0                 \n",
       "2                                                5.0                 \n",
       "3                                                4.0                 \n",
       "4                                                5.0                 \n",
       "\n",
       "  Can you describe if and how COVID-19 has impacted your food purchases?  \\\n",
       "0                   More canned goods, potato chips                        \n",
       "1                             Shopping at Foodland!                        \n",
       "2       Not happy with lack of local food available                        \n",
       "3  Purchasing on a budget and visiting one shop i...                       \n",
       "4  Only shopping once every week and a half since...                       \n",
       "\n",
       "  Please let us know any of your thoughts, feelings, or frustrations around buying or selling groceries in the Innisfil area.   \\\n",
       "0                                                NaN                                                                             \n",
       "1                 Can be expensive at smaller stores                                                                             \n",
       "2                                                NaN                                                                             \n",
       "3  No health food stores such as Farm Boy or Good...                                                                             \n",
       "4                                                NaN                                                                             \n",
       "\n",
       "  If you wish to be contacted to set up a 15 minute phone call to discuss these issues further, please leave us your email.   \n",
       "0                                                NaN                                                                          \n",
       "1                                                NaN                                                                          \n",
       "2                                                NaN                                                                          \n",
       "3                                ampower97@gmail.com                                                                          \n",
       "4                                                NaN                                                                          "
      ]
     },
     "execution_count": 3,
     "metadata": {},
     "output_type": "execute_result"
    }
   ],
   "source": [
    "df.head()"
   ]
  },
  {
   "cell_type": "code",
   "execution_count": 4,
   "metadata": {},
   "outputs": [],
   "source": [
    "col_names = ['date', 'Q1', 'Q2', 'Q3', 'Q4', 'Q5', 'Q6', 'Q7', 'Q8', 'Q9', 'Q10', 'Q11', 'email']\n",
    "\n",
    "df.columns = col_names"
   ]
  },
  {
   "cell_type": "code",
   "execution_count": 5,
   "metadata": {},
   "outputs": [
    {
     "data": {
      "text/html": [
       "<div>\n",
       "<style scoped>\n",
       "    .dataframe tbody tr th:only-of-type {\n",
       "        vertical-align: middle;\n",
       "    }\n",
       "\n",
       "    .dataframe tbody tr th {\n",
       "        vertical-align: top;\n",
       "    }\n",
       "\n",
       "    .dataframe thead th {\n",
       "        text-align: right;\n",
       "    }\n",
       "</style>\n",
       "<table border=\"1\" class=\"dataframe\">\n",
       "  <thead>\n",
       "    <tr style=\"text-align: right;\">\n",
       "      <th></th>\n",
       "      <th>date</th>\n",
       "      <th>Q1</th>\n",
       "      <th>Q2</th>\n",
       "      <th>Q3</th>\n",
       "      <th>Q4</th>\n",
       "      <th>Q5</th>\n",
       "      <th>Q6</th>\n",
       "      <th>Q7</th>\n",
       "      <th>Q8</th>\n",
       "      <th>Q9</th>\n",
       "      <th>Q10</th>\n",
       "      <th>Q11</th>\n",
       "      <th>email</th>\n",
       "    </tr>\n",
       "  </thead>\n",
       "  <tbody>\n",
       "    <tr>\n",
       "      <th>0</th>\n",
       "      <td>4/14/2020 18:43:01</td>\n",
       "      <td>Cookstown</td>\n",
       "      <td>Cookstown Foodland</td>\n",
       "      <td>No</td>\n",
       "      <td>Yes</td>\n",
       "      <td>Delivery</td>\n",
       "      <td>5-10</td>\n",
       "      <td>A few times a year</td>\n",
       "      <td>Yes, Stonehorse and Sheldon Creek</td>\n",
       "      <td>5.0</td>\n",
       "      <td>More canned goods, potato chips</td>\n",
       "      <td>NaN</td>\n",
       "      <td>NaN</td>\n",
       "    </tr>\n",
       "    <tr>\n",
       "      <th>1</th>\n",
       "      <td>4/14/2020 18:47:06</td>\n",
       "      <td>Cookstown</td>\n",
       "      <td>Walmart</td>\n",
       "      <td>No</td>\n",
       "      <td>Maybe</td>\n",
       "      <td>Pick Up</td>\n",
       "      <td>$10</td>\n",
       "      <td>Almost never</td>\n",
       "      <td>Sometimes!</td>\n",
       "      <td>5.0</td>\n",
       "      <td>Shopping at Foodland!</td>\n",
       "      <td>Can be expensive at smaller stores</td>\n",
       "      <td>NaN</td>\n",
       "    </tr>\n",
       "    <tr>\n",
       "      <th>2</th>\n",
       "      <td>4/14/2020 18:47:17</td>\n",
       "      <td>Cookstown</td>\n",
       "      <td>Foodland Cookstown</td>\n",
       "      <td>Yes</td>\n",
       "      <td>Yes</td>\n",
       "      <td>Delivery</td>\n",
       "      <td>$10</td>\n",
       "      <td>Approximately once a month</td>\n",
       "      <td>Yes</td>\n",
       "      <td>5.0</td>\n",
       "      <td>Not happy with lack of local food available</td>\n",
       "      <td>NaN</td>\n",
       "      <td>NaN</td>\n",
       "    </tr>\n",
       "    <tr>\n",
       "      <th>3</th>\n",
       "      <td>4/14/2020 19:01:45</td>\n",
       "      <td>Alcona</td>\n",
       "      <td>Sobey's Alcona</td>\n",
       "      <td>No</td>\n",
       "      <td>Yes</td>\n",
       "      <td>Pick Up</td>\n",
       "      <td>$20</td>\n",
       "      <td>Almost never</td>\n",
       "      <td>I have in the past for eggs, but on rare occasion</td>\n",
       "      <td>4.0</td>\n",
       "      <td>Purchasing on a budget and visiting one shop i...</td>\n",
       "      <td>No health food stores such as Farm Boy or Good...</td>\n",
       "      <td>ampower97@gmail.com</td>\n",
       "    </tr>\n",
       "    <tr>\n",
       "      <th>4</th>\n",
       "      <td>4/14/2020 19:04:00</td>\n",
       "      <td>Cookstown</td>\n",
       "      <td>Cookstown Foodland</td>\n",
       "      <td>Yes</td>\n",
       "      <td>No</td>\n",
       "      <td>Pick Up</td>\n",
       "      <td>NaN</td>\n",
       "      <td>Approximately once a month</td>\n",
       "      <td>Yes</td>\n",
       "      <td>5.0</td>\n",
       "      <td>Only shopping once every week and a half since...</td>\n",
       "      <td>NaN</td>\n",
       "      <td>NaN</td>\n",
       "    </tr>\n",
       "  </tbody>\n",
       "</table>\n",
       "</div>"
      ],
      "text/plain": [
       "                 date         Q1                   Q2   Q3     Q4        Q5  \\\n",
       "0  4/14/2020 18:43:01  Cookstown   Cookstown Foodland   No    Yes  Delivery   \n",
       "1  4/14/2020 18:47:06  Cookstown              Walmart   No  Maybe   Pick Up   \n",
       "2  4/14/2020 18:47:17  Cookstown  Foodland Cookstown   Yes    Yes  Delivery   \n",
       "3  4/14/2020 19:01:45     Alcona       Sobey's Alcona   No    Yes   Pick Up   \n",
       "4  4/14/2020 19:04:00  Cookstown  Cookstown Foodland   Yes     No   Pick Up   \n",
       "\n",
       "      Q6                          Q7  \\\n",
       "0  5-10           A few times a year   \n",
       "1    $10                Almost never   \n",
       "2    $10  Approximately once a month   \n",
       "3    $20                Almost never   \n",
       "4    NaN  Approximately once a month   \n",
       "\n",
       "                                                  Q8   Q9  \\\n",
       "0                  Yes, Stonehorse and Sheldon Creek  5.0   \n",
       "1                                         Sometimes!  5.0   \n",
       "2                                                Yes  5.0   \n",
       "3  I have in the past for eggs, but on rare occasion  4.0   \n",
       "4                                                Yes  5.0   \n",
       "\n",
       "                                                 Q10  \\\n",
       "0                   More canned goods, potato chips    \n",
       "1                             Shopping at Foodland!    \n",
       "2       Not happy with lack of local food available    \n",
       "3  Purchasing on a budget and visiting one shop i...   \n",
       "4  Only shopping once every week and a half since...   \n",
       "\n",
       "                                                 Q11                email  \n",
       "0                                                NaN                  NaN  \n",
       "1                 Can be expensive at smaller stores                  NaN  \n",
       "2                                                NaN                  NaN  \n",
       "3  No health food stores such as Farm Boy or Good...  ampower97@gmail.com  \n",
       "4                                                NaN                  NaN  "
      ]
     },
     "execution_count": 5,
     "metadata": {},
     "output_type": "execute_result"
    }
   ],
   "source": [
    "df.head()"
   ]
  },
  {
   "cell_type": "code",
   "execution_count": 6,
   "metadata": {},
   "outputs": [
    {
     "data": {
      "text/plain": [
       "0"
      ]
     },
     "execution_count": 6,
     "metadata": {},
     "output_type": "execute_result"
    }
   ],
   "source": [
    "df.duplicated().sum()"
   ]
  },
  {
   "cell_type": "code",
   "execution_count": 7,
   "metadata": {},
   "outputs": [
    {
     "data": {
      "text/plain": [
       "date      0\n",
       "Q1        2\n",
       "Q2        3\n",
       "Q3        2\n",
       "Q4        2\n",
       "Q5        4\n",
       "Q6       11\n",
       "Q7        3\n",
       "Q8        4\n",
       "Q9        2\n",
       "Q10       2\n",
       "Q11      30\n",
       "email    66\n",
       "dtype: int64"
      ]
     },
     "execution_count": 7,
     "metadata": {},
     "output_type": "execute_result"
    }
   ],
   "source": [
    "df.isna().sum()"
   ]
  },
  {
   "cell_type": "code",
   "execution_count": 8,
   "metadata": {},
   "outputs": [],
   "source": [
    "df = df.dropna(subset = ['Q1'])"
   ]
  },
  {
   "cell_type": "code",
   "execution_count": 9,
   "metadata": {},
   "outputs": [
    {
     "data": {
      "text/plain": [
       "date      0\n",
       "Q1        0\n",
       "Q2        1\n",
       "Q3        0\n",
       "Q4        0\n",
       "Q5        2\n",
       "Q6        9\n",
       "Q7        1\n",
       "Q8        2\n",
       "Q9        0\n",
       "Q10       2\n",
       "Q11      29\n",
       "email    64\n",
       "dtype: int64"
      ]
     },
     "execution_count": 9,
     "metadata": {},
     "output_type": "execute_result"
    }
   ],
   "source": [
    "df.isna().sum()"
   ]
  },
  {
   "cell_type": "markdown",
   "metadata": {},
   "source": [
    "### Question 1"
   ]
  },
  {
   "cell_type": "code",
   "execution_count": 10,
   "metadata": {},
   "outputs": [
    {
     "data": {
      "text/plain": [
       "array(['Cookstown', 'Alcona', 'Cookstown, Essa Township',\n",
       "       'Essa township Egbert', 'Rural', 'Thornton',\n",
       "       'East end of Alliston', 'Belle ewart',\n",
       "       'Essa twp 5mins from Cookstown', 'Churchill'], dtype=object)"
      ]
     },
     "execution_count": 10,
     "metadata": {},
     "output_type": "execute_result"
    }
   ],
   "source": [
    "df['Q1'].unique()"
   ]
  },
  {
   "cell_type": "code",
   "execution_count": 11,
   "metadata": {},
   "outputs": [
    {
     "data": {
      "text/plain": [
       "Cookstown      67\n",
       "Alcona          8\n",
       "Essa            3\n",
       "Belle Ewart     1\n",
       "Churchill       1\n",
       "Alliston        1\n",
       "Rural           1\n",
       "Thornton        1\n",
       "Name: Q1, dtype: int64"
      ]
     },
     "execution_count": 11,
     "metadata": {},
     "output_type": "execute_result"
    }
   ],
   "source": [
    "mask_Essa = df['Q1'].str.match('.*[Ee]ssa.*')\n",
    "mask_Alliston = df['Q1'].str.match('.*[Aa]lliston.*')\n",
    "mask_Belle = df['Q1'].str.match('.*[Bb]elle [Ee]wart.*')\n",
    "\n",
    "df.loc[mask_Essa, 'Q1'] = 'Essa'\n",
    "df.loc[mask_Alliston, 'Q1'] = 'Alliston'\n",
    "df.loc[mask_Belle, 'Q1'] = 'Belle Ewart'\n",
    "\n",
    "df['Q1'].value_counts()"
   ]
  },
  {
   "cell_type": "code",
   "execution_count": 12,
   "metadata": {},
   "outputs": [
    {
     "data": {
      "text/plain": [
       "Cookstown    67\n",
       "Other        16\n",
       "Name: Q1, dtype: int64"
      ]
     },
     "execution_count": 12,
     "metadata": {},
     "output_type": "execute_result"
    }
   ],
   "source": [
    "mask_other = df['Q1'] == 'Cookstown'\n",
    "\n",
    "df.loc[~mask_other, 'Q1'] = 'Other'\n",
    "\n",
    "df['Q1'].value_counts()"
   ]
  },
  {
   "cell_type": "markdown",
   "metadata": {},
   "source": [
    "### Question 2"
   ]
  },
  {
   "cell_type": "code",
   "execution_count": 13,
   "metadata": {},
   "outputs": [
    {
     "data": {
      "text/plain": [
       "array(['Cookstown Foodland', 'Walmart', 'Foodland Cookstown ',\n",
       "       \"Sobey's Alcona\", 'Cookstown Foodland ', 'Costco ',\n",
       "       'Foodland in COOKSTOWN ', 'Zehrs, Walmart, Foodland', 'Sobeys',\n",
       "       'Cookstown Foodland & Alcona No Frills', 'Walmart, Barrie South',\n",
       "       'Foodland', 'Walmart, Foodland, Zerhs and farmers markets',\n",
       "       'Zerhs.', 'Foodland Cookstown', 'Foodland ', 'Foodland cookstown',\n",
       "       'No Frills ', 'Zehrs', 'Walmart and foodland ', 'No Frills',\n",
       "       'Walmart Barrie ', 'Foodland Walmart alliston',\n",
       "       'Wallmart or local', 'Costco and Sobeys', 'foodland, wallmart',\n",
       "       'Food Basics', 'Zehrs in Alliston or Foodland Cookstown',\n",
       "       'Costco, Zehrs, Foodland ', 'Costco', 'Food basics, foodland',\n",
       "       'Zehrs Barrie', 'Zehrs and Walmart alliston ', 'Alliston Walmart ',\n",
       "       'Zhers', 'Food basics ', 'Zehrs, Foodland', nan,\n",
       "       'Foodland - Cookstown', \"Sobey's/No Frills\", 'Foodland, Cookstown',\n",
       "       'Sobeys ', 'no frills', 'Sobey’s', 'No Frills & Costco',\n",
       "       'Johns no frills', 'Zehrs ', 'No frills- Alcona '], dtype=object)"
      ]
     },
     "execution_count": 13,
     "metadata": {},
     "output_type": "execute_result"
    }
   ],
   "source": [
    "df['Q2'].unique()"
   ]
  },
  {
   "cell_type": "code",
   "execution_count": 14,
   "metadata": {},
   "outputs": [
    {
     "data": {
      "text/plain": [
       "Foodland                                        12\n",
       "Walmart                                          8\n",
       "Zehrs                                            4\n",
       "Foodland Cookstown                               3\n",
       "No Frills                                        3\n",
       "Costco                                           2\n",
       "Foodland - Cookstown                             2\n",
       "Foodland                                         2\n",
       "Cookstown Foodland                               2\n",
       "Costco                                           2\n",
       "Foodland Cookstown                               2\n",
       "Foodland cookstown                               1\n",
       "Zehrs and Walmart alliston                       1\n",
       "Wallmart or local                                1\n",
       "foodland, wallmart                               1\n",
       "Alliston Walmart                                 1\n",
       "Cookstown Foodland & Alcona No Frills            1\n",
       "Foodland, Cookstown                              1\n",
       "Zehrs, Foodland                                  1\n",
       "Zehrs in Alliston or Foodland Cookstown          1\n",
       "Zehrs                                            1\n",
       "Walmart Barrie                                   1\n",
       "Foodland in COOKSTOWN                            1\n",
       "Zhers                                            1\n",
       "No Frills                                        1\n",
       "Walmart, Barrie South                            1\n",
       "Food basics, foodland                            1\n",
       "Costco, Zehrs, Foodland                          1\n",
       "Walmart and foodland                             1\n",
       "Food Basics                                      1\n",
       "Zehrs Barrie                                     1\n",
       "Cookstown Foodland                               1\n",
       "Zerhs.                                           1\n",
       "Food basics                                      1\n",
       "Walmart, Foodland, Zerhs and farmers markets     1\n",
       "Name: Q2, dtype: int64"
      ]
     },
     "execution_count": 14,
     "metadata": {},
     "output_type": "execute_result"
    }
   ],
   "source": [
    "mask_Cookstown = df['Q1'] == 'Cookstown'\n",
    "\n",
    "df.loc[mask_Cookstown, 'Q2'].value_counts()"
   ]
  },
  {
   "cell_type": "code",
   "execution_count": 15,
   "metadata": {},
   "outputs": [],
   "source": [
    "df['Q2'] = df['Q2'].fillna('Foodland')"
   ]
  },
  {
   "cell_type": "code",
   "execution_count": 16,
   "metadata": {},
   "outputs": [
    {
     "data": {
      "text/html": [
       "<div>\n",
       "<style scoped>\n",
       "    .dataframe tbody tr th:only-of-type {\n",
       "        vertical-align: middle;\n",
       "    }\n",
       "\n",
       "    .dataframe tbody tr th {\n",
       "        vertical-align: top;\n",
       "    }\n",
       "\n",
       "    .dataframe thead th {\n",
       "        text-align: right;\n",
       "    }\n",
       "</style>\n",
       "<table border=\"1\" class=\"dataframe\">\n",
       "  <thead>\n",
       "    <tr style=\"text-align: right;\">\n",
       "      <th></th>\n",
       "      <th>date</th>\n",
       "      <th>Q1</th>\n",
       "      <th>Q2</th>\n",
       "      <th>Q3</th>\n",
       "      <th>Q4</th>\n",
       "      <th>Q5</th>\n",
       "      <th>Q6</th>\n",
       "      <th>Q7</th>\n",
       "      <th>Q8</th>\n",
       "      <th>Q9</th>\n",
       "      <th>Q10</th>\n",
       "      <th>Q11</th>\n",
       "      <th>email</th>\n",
       "      <th>Zehrs</th>\n",
       "      <th>Frills</th>\n",
       "      <th>Costco</th>\n",
       "      <th>Foodland</th>\n",
       "      <th>Walmart</th>\n",
       "      <th>Sobeys</th>\n",
       "      <th>Basic</th>\n",
       "    </tr>\n",
       "  </thead>\n",
       "  <tbody>\n",
       "    <tr>\n",
       "      <th>0</th>\n",
       "      <td>4/14/2020 18:43:01</td>\n",
       "      <td>Cookstown</td>\n",
       "      <td>Cookstown Foodland</td>\n",
       "      <td>No</td>\n",
       "      <td>Yes</td>\n",
       "      <td>Delivery</td>\n",
       "      <td>5-10</td>\n",
       "      <td>A few times a year</td>\n",
       "      <td>Yes, Stonehorse and Sheldon Creek</td>\n",
       "      <td>5.0</td>\n",
       "      <td>More canned goods, potato chips</td>\n",
       "      <td>NaN</td>\n",
       "      <td>NaN</td>\n",
       "      <td>0</td>\n",
       "      <td>0</td>\n",
       "      <td>0</td>\n",
       "      <td>1</td>\n",
       "      <td>0</td>\n",
       "      <td>0</td>\n",
       "      <td>0</td>\n",
       "    </tr>\n",
       "    <tr>\n",
       "      <th>1</th>\n",
       "      <td>4/14/2020 18:47:06</td>\n",
       "      <td>Cookstown</td>\n",
       "      <td>Walmart</td>\n",
       "      <td>No</td>\n",
       "      <td>Maybe</td>\n",
       "      <td>Pick Up</td>\n",
       "      <td>$10</td>\n",
       "      <td>Almost never</td>\n",
       "      <td>Sometimes!</td>\n",
       "      <td>5.0</td>\n",
       "      <td>Shopping at Foodland!</td>\n",
       "      <td>Can be expensive at smaller stores</td>\n",
       "      <td>NaN</td>\n",
       "      <td>0</td>\n",
       "      <td>0</td>\n",
       "      <td>0</td>\n",
       "      <td>0</td>\n",
       "      <td>1</td>\n",
       "      <td>0</td>\n",
       "      <td>0</td>\n",
       "    </tr>\n",
       "    <tr>\n",
       "      <th>2</th>\n",
       "      <td>4/14/2020 18:47:17</td>\n",
       "      <td>Cookstown</td>\n",
       "      <td>Foodland Cookstown</td>\n",
       "      <td>Yes</td>\n",
       "      <td>Yes</td>\n",
       "      <td>Delivery</td>\n",
       "      <td>$10</td>\n",
       "      <td>Approximately once a month</td>\n",
       "      <td>Yes</td>\n",
       "      <td>5.0</td>\n",
       "      <td>Not happy with lack of local food available</td>\n",
       "      <td>NaN</td>\n",
       "      <td>NaN</td>\n",
       "      <td>0</td>\n",
       "      <td>0</td>\n",
       "      <td>0</td>\n",
       "      <td>1</td>\n",
       "      <td>0</td>\n",
       "      <td>0</td>\n",
       "      <td>0</td>\n",
       "    </tr>\n",
       "    <tr>\n",
       "      <th>3</th>\n",
       "      <td>4/14/2020 19:01:45</td>\n",
       "      <td>Other</td>\n",
       "      <td>Sobey's Alcona</td>\n",
       "      <td>No</td>\n",
       "      <td>Yes</td>\n",
       "      <td>Pick Up</td>\n",
       "      <td>$20</td>\n",
       "      <td>Almost never</td>\n",
       "      <td>I have in the past for eggs, but on rare occasion</td>\n",
       "      <td>4.0</td>\n",
       "      <td>Purchasing on a budget and visiting one shop i...</td>\n",
       "      <td>No health food stores such as Farm Boy or Good...</td>\n",
       "      <td>ampower97@gmail.com</td>\n",
       "      <td>0</td>\n",
       "      <td>0</td>\n",
       "      <td>0</td>\n",
       "      <td>0</td>\n",
       "      <td>0</td>\n",
       "      <td>1</td>\n",
       "      <td>0</td>\n",
       "    </tr>\n",
       "    <tr>\n",
       "      <th>4</th>\n",
       "      <td>4/14/2020 19:04:00</td>\n",
       "      <td>Cookstown</td>\n",
       "      <td>Cookstown Foodland</td>\n",
       "      <td>Yes</td>\n",
       "      <td>No</td>\n",
       "      <td>Pick Up</td>\n",
       "      <td>NaN</td>\n",
       "      <td>Approximately once a month</td>\n",
       "      <td>Yes</td>\n",
       "      <td>5.0</td>\n",
       "      <td>Only shopping once every week and a half since...</td>\n",
       "      <td>NaN</td>\n",
       "      <td>NaN</td>\n",
       "      <td>0</td>\n",
       "      <td>0</td>\n",
       "      <td>0</td>\n",
       "      <td>1</td>\n",
       "      <td>0</td>\n",
       "      <td>0</td>\n",
       "      <td>0</td>\n",
       "    </tr>\n",
       "  </tbody>\n",
       "</table>\n",
       "</div>"
      ],
      "text/plain": [
       "                 date         Q1                   Q2   Q3     Q4        Q5  \\\n",
       "0  4/14/2020 18:43:01  Cookstown   Cookstown Foodland   No    Yes  Delivery   \n",
       "1  4/14/2020 18:47:06  Cookstown              Walmart   No  Maybe   Pick Up   \n",
       "2  4/14/2020 18:47:17  Cookstown  Foodland Cookstown   Yes    Yes  Delivery   \n",
       "3  4/14/2020 19:01:45      Other       Sobey's Alcona   No    Yes   Pick Up   \n",
       "4  4/14/2020 19:04:00  Cookstown  Cookstown Foodland   Yes     No   Pick Up   \n",
       "\n",
       "      Q6                          Q7  \\\n",
       "0  5-10           A few times a year   \n",
       "1    $10                Almost never   \n",
       "2    $10  Approximately once a month   \n",
       "3    $20                Almost never   \n",
       "4    NaN  Approximately once a month   \n",
       "\n",
       "                                                  Q8   Q9  \\\n",
       "0                  Yes, Stonehorse and Sheldon Creek  5.0   \n",
       "1                                         Sometimes!  5.0   \n",
       "2                                                Yes  5.0   \n",
       "3  I have in the past for eggs, but on rare occasion  4.0   \n",
       "4                                                Yes  5.0   \n",
       "\n",
       "                                                 Q10  \\\n",
       "0                   More canned goods, potato chips    \n",
       "1                             Shopping at Foodland!    \n",
       "2       Not happy with lack of local food available    \n",
       "3  Purchasing on a budget and visiting one shop i...   \n",
       "4  Only shopping once every week and a half since...   \n",
       "\n",
       "                                                 Q11                email  \\\n",
       "0                                                NaN                  NaN   \n",
       "1                 Can be expensive at smaller stores                  NaN   \n",
       "2                                                NaN                  NaN   \n",
       "3  No health food stores such as Farm Boy or Good...  ampower97@gmail.com   \n",
       "4                                                NaN                  NaN   \n",
       "\n",
       "   Zehrs  Frills  Costco  Foodland  Walmart  Sobeys  Basic  \n",
       "0      0       0       0         1        0       0      0  \n",
       "1      0       0       0         0        1       0      0  \n",
       "2      0       0       0         1        0       0      0  \n",
       "3      0       0       0         0        0       1      0  \n",
       "4      0       0       0         1        0       0      0  "
      ]
     },
     "execution_count": 16,
     "metadata": {},
     "output_type": "execute_result"
    }
   ],
   "source": [
    "mask_Zehrs = df['Q2'].str.match('.*[Zzehrs\\']{4,5}.*')\n",
    "mask_Frills = df['Q2'].str.match('.*[Nno Ffrils]{9}.*')\n",
    "mask_Costco = df['Q2'].str.match('.*[Ccost]{6}.*')\n",
    "mask_Foodland = df['Q2'].str.match('.*[FfoodlandL ]{8,9}.*')\n",
    "mask_Walmart = df['Q2'].str.match('.*[Wwalmrt]{7,8}.*')\n",
    "mask_Sobeys = df['Q2'].str.match('.*[Ssobe\\'y’]{6,7}.*')\n",
    "mask_Basic = df['Q2'].str.match('.*[Ffod Bbasics]{10,11}.*')\n",
    "\n",
    "df['Zehrs'] = 0\n",
    "df.loc[mask_Zehrs, 'Zehrs'] = 1\n",
    "\n",
    "df['Frills'] = 0\n",
    "df.loc[mask_Frills, 'Frills'] = 1\n",
    "\n",
    "df['Costco'] = 0\n",
    "df.loc[mask_Costco, 'Costco'] = 1\n",
    "\n",
    "df['Foodland'] = 0\n",
    "df.loc[mask_Foodland, 'Foodland'] = 1\n",
    "\n",
    "df['Walmart'] = 0\n",
    "df.loc[mask_Walmart, 'Walmart'] = 1\n",
    "\n",
    "df['Sobeys'] = 0\n",
    "df.loc[mask_Sobeys, 'Sobeys'] = 1\n",
    "\n",
    "df['Basic'] = 0\n",
    "df.loc[mask_Basic, 'Basic'] = 1\n",
    "\n",
    "df.head()"
   ]
  },
  {
   "cell_type": "code",
   "execution_count": 17,
   "metadata": {},
   "outputs": [
    {
     "data": {
      "text/plain": [
       "Zehrs       15\n",
       "Frills      11\n",
       "Costco       7\n",
       "Foodland    39\n",
       "Walmart     18\n",
       "Sobeys       8\n",
       "Basic        3\n",
       "dtype: int64"
      ]
     },
     "execution_count": 17,
     "metadata": {},
     "output_type": "execute_result"
    }
   ],
   "source": [
    "df.loc[:, 'Zehrs':].sum()"
   ]
  },
  {
   "cell_type": "markdown",
   "metadata": {},
   "source": [
    "### Question 3"
   ]
  },
  {
   "cell_type": "code",
   "execution_count": 18,
   "metadata": {},
   "outputs": [
    {
     "data": {
      "text/plain": [
       "array(['No', 'Yes'], dtype=object)"
      ]
     },
     "execution_count": 18,
     "metadata": {},
     "output_type": "execute_result"
    }
   ],
   "source": [
    "df['Q3'].unique()"
   ]
  },
  {
   "cell_type": "markdown",
   "metadata": {},
   "source": [
    "### Question 4"
   ]
  },
  {
   "cell_type": "code",
   "execution_count": 19,
   "metadata": {},
   "outputs": [
    {
     "data": {
      "text/plain": [
       "array(['Yes', 'Maybe', 'No'], dtype=object)"
      ]
     },
     "execution_count": 19,
     "metadata": {},
     "output_type": "execute_result"
    }
   ],
   "source": [
    "df['Q4'].unique()"
   ]
  },
  {
   "cell_type": "markdown",
   "metadata": {},
   "source": [
    "### Question 5"
   ]
  },
  {
   "cell_type": "code",
   "execution_count": 20,
   "metadata": {},
   "outputs": [
    {
     "data": {
      "text/plain": [
       "array(['Delivery', 'Pick Up', nan], dtype=object)"
      ]
     },
     "execution_count": 20,
     "metadata": {},
     "output_type": "execute_result"
    }
   ],
   "source": [
    "df['Q5'].unique()"
   ]
  },
  {
   "cell_type": "code",
   "execution_count": 21,
   "metadata": {},
   "outputs": [
    {
     "data": {
      "text/plain": [
       "Pick Up     48\n",
       "Delivery    33\n",
       "Name: Q5, dtype: int64"
      ]
     },
     "execution_count": 21,
     "metadata": {},
     "output_type": "execute_result"
    }
   ],
   "source": [
    "df['Q5'].value_counts()"
   ]
  },
  {
   "cell_type": "code",
   "execution_count": 22,
   "metadata": {},
   "outputs": [],
   "source": [
    "df['Q5'] = df['Q5'].fillna('Pick Up')"
   ]
  },
  {
   "cell_type": "markdown",
   "metadata": {},
   "source": [
    "### Question 6"
   ]
  },
  {
   "cell_type": "code",
   "execution_count": 23,
   "metadata": {
    "scrolled": true
   },
   "outputs": [
    {
     "data": {
      "text/plain": [
       "array(['5-10 ', '$10', '$20', nan, '0', 'Depends',\n",
       "       '$10 or less. I would not mind pick up after covid19',\n",
       "       'Up to $15.00', '$5', 'Would prefer free but up to $10.00',\n",
       "       'uncertain but am willing to pay', '10$',\n",
       "       'Nothing!  All other delivery services are free', '5', '$10.00',\n",
       "       'Free', 'Not sure', 'Depending on how far away the business is',\n",
       "       'We pick up', 'Nothing', '$5.00', '$15',\n",
       "       'Not sure depending on the size of the order. ', '$7',\n",
       "       'I would pick up  - max for delivery $10-$12', '10', '5$', '$5-$7',\n",
       "       \"minimal, it's not something of great value to me\",\n",
       "       'Very little because I can get pickup for free.',\n",
       "       'Depends on how much the order is', '$5  - $10',\n",
       "       'Included in pricing', '$10-$15', '$10.00 max', '$30',\n",
       "       'between $3-5', '$5-10', '$10 max', 'Under $5'], dtype=object)"
      ]
     },
     "execution_count": 23,
     "metadata": {},
     "output_type": "execute_result"
    }
   ],
   "source": [
    "df['Q6'].unique()"
   ]
  },
  {
   "cell_type": "code",
   "execution_count": 24,
   "metadata": {},
   "outputs": [
    {
     "data": {
      "text/plain": [
       "1    43\n",
       "2    22\n",
       "0    14\n",
       "3     4\n",
       "Name: Q6, dtype: int64"
      ]
     },
     "execution_count": 24,
     "metadata": {},
     "output_type": "execute_result"
    }
   ],
   "source": [
    "df['Q6'] = df['Q6'].fillna('5')\n",
    "\n",
    "df.loc[df['Q6'].str.match('.*\\$?5\\$?.*'), 'Q6']\n",
    "\n",
    "mask_0 = df['Q6'].str.match('^\\s*\\$?0\\$?\\s*$')\n",
    "mask_0_2 = df['Q6'].str.match('No.*')\n",
    "mask_0_3 = df['Q6'].str.match('Free')\n",
    "mask_0_4 = df['Q6'].str.match('.*[Pp]ick up.*')\n",
    "df.loc[mask_0 | mask_0_2 | mask_0_3 | mask_0_4, 'Q6'] = '0'\n",
    "\n",
    "mask_5 = df['Q6'].str.match('^\\s*\\$?[1-5](.00)?\\$?\\s*$')\n",
    "mask_5_2 = df['Q6'].str.match('.*\\D*5(.00)?\\$?\\s*')\n",
    "mask_5_3 = df['Q6'].str.match('Depend.*')\n",
    "df.loc[mask_5 | mask_5_2 | mask_5_3, 'Q6'] = '1'\n",
    "\n",
    "mask_10 = df['Q6'].str.match('^\\s*\\$?10(.00)?\\$?\\s*$')\n",
    "mask_10_2 = df['Q6'].str.match('.*[6-9].*')\n",
    "mask_10_3 = df['Q6'].str.match('\\D*10(.00)?\\D*')\n",
    "df.loc[mask_10 | mask_10_2 | mask_10_3, 'Q6'] = '2'\n",
    "\n",
    "mask_high = df['Q6'].str.match('^\\$(20)?(30)?$')\n",
    "df.loc[mask_high, 'Q6'] = '3'\n",
    "\n",
    "mask_final = df['Q6'].str.match('.*[A-z].*')\n",
    "df.loc[mask_final, 'Q6'] = '1'\n",
    "\n",
    "df['Q6'] = df['Q6'].astype('int')\n",
    "df['Q6'].value_counts()"
   ]
  },
  {
   "cell_type": "markdown",
   "metadata": {},
   "source": [
    "### Question 7"
   ]
  },
  {
   "cell_type": "code",
   "execution_count": 25,
   "metadata": {},
   "outputs": [
    {
     "data": {
      "text/plain": [
       "array(['A few times a year', 'Almost never', 'Approximately once a month',\n",
       "       'Approximately once a week', 'More than once a week', nan],\n",
       "      dtype=object)"
      ]
     },
     "execution_count": 25,
     "metadata": {},
     "output_type": "execute_result"
    }
   ],
   "source": [
    "df['Q7'].unique()"
   ]
  },
  {
   "cell_type": "code",
   "execution_count": 26,
   "metadata": {},
   "outputs": [
    {
     "data": {
      "text/plain": [
       "Almost never                  43\n",
       "A few times a year            25\n",
       "Approximately once a month     9\n",
       "Approximately once a week      3\n",
       "More than once a week          2\n",
       "Name: Q7, dtype: int64"
      ]
     },
     "execution_count": 26,
     "metadata": {},
     "output_type": "execute_result"
    }
   ],
   "source": [
    "df['Q7'].value_counts()"
   ]
  },
  {
   "cell_type": "code",
   "execution_count": 27,
   "metadata": {},
   "outputs": [],
   "source": [
    "df['Q7'] = df['Q7'].fillna('Almost never')"
   ]
  },
  {
   "cell_type": "markdown",
   "metadata": {},
   "source": [
    "### Question 8"
   ]
  },
  {
   "cell_type": "code",
   "execution_count": 28,
   "metadata": {},
   "outputs": [
    {
     "data": {
      "text/plain": [
       "array(['Yes, Stonehorse and Sheldon Creek', 'Sometimes!', 'Yes',\n",
       "       'I have in the past for eggs, but on rare occasion',\n",
       "       'Yes - hours aren’t great if working ',\n",
       "       'Yes, in Thornton. Much closer for me.', 'No',\n",
       "       'I just did last weekend ',\n",
       "       'No, but did visit the Thornton market',\n",
       "       'Yes the one in Thornton and drive directly to farms for special items',\n",
       "       'No ', 'yes', 'Not really',\n",
       "       'Yes corn on the cob season, Asparagus season ', nan,\n",
       "       'Not as of yet but will', 'Corn...etc ', 'Yes for eggs',\n",
       "       'Bradford ', 'No...but I think I might start',\n",
       "       'No, I didn’t know I could! ', 'No.', 'Seldom', 'Very rarely ',\n",
       "       'No but would love to', 'Didn’t know I could', 'a few times',\n",
       "       'Yes, Barrie', 'Yes ', 'Occasionally ',\n",
       "       'Yes if we come across one during our errands.',\n",
       "       'A friend that raises chickens and local farmers for eggs',\n",
       "       'yes, local farms for eggs', 'Yes - to buy eggs, garlic',\n",
       "       'No (however I plan to visit farmers market in future)',\n",
       "       'Sometimes', 'no - never sure if they take debit/credit',\n",
       "       'Yes! Mostly Edward’s Farm. ', 'The odd time ',\n",
       "       'Yes closer to Cookstown'], dtype=object)"
      ]
     },
     "execution_count": 28,
     "metadata": {},
     "output_type": "execute_result"
    }
   ],
   "source": [
    "df['Q8'].unique()"
   ]
  },
  {
   "cell_type": "code",
   "execution_count": 29,
   "metadata": {},
   "outputs": [],
   "source": [
    "df['Q8'] = df['Q8'].fillna('Yes')"
   ]
  },
  {
   "cell_type": "code",
   "execution_count": 30,
   "metadata": {},
   "outputs": [],
   "source": [
    "mask_Yes = df['Q8'].str.match('.*[Yyes].*')\n",
    "mask_Yes2 = df['Q8'].str.match('.*Bradford.*')\n",
    "df.loc[(mask_Yes | mask_Yes2), 'Q8'] = 'Yes'\n",
    "\n",
    "mask_No = df['Q8'].str.match('^[Nno]{2}.*')\n",
    "mask_No2 = df['Q8'].str.match('.*\\Wno\\W.*')\n",
    "mask_No3 = ~(mask_Yes | mask_Yes2 | mask_No | mask_No2)\n",
    "df.loc[(mask_No | mask_No2 | mask_No3), 'Q8'] = 'No'"
   ]
  },
  {
   "cell_type": "code",
   "execution_count": 31,
   "metadata": {},
   "outputs": [
    {
     "data": {
      "text/plain": [
       "Yes    67\n",
       "No     16\n",
       "Name: Q8, dtype: int64"
      ]
     },
     "execution_count": 31,
     "metadata": {},
     "output_type": "execute_result"
    }
   ],
   "source": [
    "df['Q8'].value_counts()"
   ]
  },
  {
   "cell_type": "markdown",
   "metadata": {},
   "source": [
    "### Question 9"
   ]
  },
  {
   "cell_type": "code",
   "execution_count": 32,
   "metadata": {},
   "outputs": [
    {
     "data": {
      "text/plain": [
       "array([5., 4., 3., 2., 1.])"
      ]
     },
     "execution_count": 32,
     "metadata": {},
     "output_type": "execute_result"
    }
   ],
   "source": [
    "df['Q9'].unique()"
   ]
  },
  {
   "cell_type": "code",
   "execution_count": 36,
   "metadata": {},
   "outputs": [
    {
     "data": {
      "text/plain": [
       "5    44\n",
       "4    28\n",
       "3     7\n",
       "2     3\n",
       "1     1\n",
       "Name: Q9, dtype: int64"
      ]
     },
     "execution_count": 36,
     "metadata": {},
     "output_type": "execute_result"
    }
   ],
   "source": [
    "df['Q9'] = df['Q9'].astype('int')\n",
    "\n",
    "df['Q9'].value_counts()"
   ]
  },
  {
   "cell_type": "markdown",
   "metadata": {},
   "source": [
    "### Question 10"
   ]
  },
  {
   "cell_type": "code",
   "execution_count": 33,
   "metadata": {},
   "outputs": [],
   "source": [
    "df['Q10'] = df['Q10'].fillna('NR')"
   ]
  },
  {
   "cell_type": "markdown",
   "metadata": {},
   "source": [
    "### Question 11"
   ]
  },
  {
   "cell_type": "code",
   "execution_count": 34,
   "metadata": {},
   "outputs": [],
   "source": [
    "df['Q11'] = df['Q11'].fillna('NR')"
   ]
  },
  {
   "cell_type": "code",
   "execution_count": 38,
   "metadata": {},
   "outputs": [],
   "source": [
    "df.to_csv('survey_clean.csv', index = False, encoding = 'UTF-8')"
   ]
  },
  {
   "cell_type": "code",
   "execution_count": null,
   "metadata": {},
   "outputs": [],
   "source": []
  }
 ],
 "metadata": {
  "kernelspec": {
   "display_name": "Python 3",
   "language": "python",
   "name": "python3"
  },
  "language_info": {
   "codemirror_mode": {
    "name": "ipython",
    "version": 3
   },
   "file_extension": ".py",
   "mimetype": "text/x-python",
   "name": "python",
   "nbconvert_exporter": "python",
   "pygments_lexer": "ipython3",
   "version": "3.7.6"
  }
 },
 "nbformat": 4,
 "nbformat_minor": 4
}
