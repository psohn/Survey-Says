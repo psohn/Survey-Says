{
 "cells": [
  {
   "cell_type": "code",
   "execution_count": 1,
   "metadata": {},
   "outputs": [],
   "source": [
    "import pandas as pd"
   ]
  },
  {
   "cell_type": "code",
   "execution_count": 2,
   "metadata": {},
   "outputs": [],
   "source": [
    "df = pd.read_csv('survey_clean.csv', encoding = 'UTF-8')"
   ]
  },
  {
   "cell_type": "code",
   "execution_count": 3,
   "metadata": {},
   "outputs": [
    {
     "data": {
      "text/html": [
       "<div>\n",
       "<style scoped>\n",
       "    .dataframe tbody tr th:only-of-type {\n",
       "        vertical-align: middle;\n",
       "    }\n",
       "\n",
       "    .dataframe tbody tr th {\n",
       "        vertical-align: top;\n",
       "    }\n",
       "\n",
       "    .dataframe thead th {\n",
       "        text-align: right;\n",
       "    }\n",
       "</style>\n",
       "<table border=\"1\" class=\"dataframe\">\n",
       "  <thead>\n",
       "    <tr style=\"text-align: right;\">\n",
       "      <th></th>\n",
       "      <th>date</th>\n",
       "      <th>Q1</th>\n",
       "      <th>Q2</th>\n",
       "      <th>Q3</th>\n",
       "      <th>Q4</th>\n",
       "      <th>Q5</th>\n",
       "      <th>Q6</th>\n",
       "      <th>Q7</th>\n",
       "      <th>Q8</th>\n",
       "      <th>Q9</th>\n",
       "      <th>Q10</th>\n",
       "      <th>Q11</th>\n",
       "      <th>email</th>\n",
       "      <th>Zehrs</th>\n",
       "      <th>Frills</th>\n",
       "      <th>Costco</th>\n",
       "      <th>Foodland</th>\n",
       "      <th>Walmart</th>\n",
       "      <th>Sobeys</th>\n",
       "      <th>Basic</th>\n",
       "    </tr>\n",
       "  </thead>\n",
       "  <tbody>\n",
       "    <tr>\n",
       "      <th>0</th>\n",
       "      <td>4/14/2020 18:43:01</td>\n",
       "      <td>Cookstown</td>\n",
       "      <td>Cookstown Foodland</td>\n",
       "      <td>No</td>\n",
       "      <td>Yes</td>\n",
       "      <td>Delivery</td>\n",
       "      <td>1</td>\n",
       "      <td>A few times a year</td>\n",
       "      <td>Yes</td>\n",
       "      <td>5</td>\n",
       "      <td>More canned goods, potato chips</td>\n",
       "      <td>NR</td>\n",
       "      <td>NaN</td>\n",
       "      <td>0</td>\n",
       "      <td>0</td>\n",
       "      <td>0</td>\n",
       "      <td>1</td>\n",
       "      <td>0</td>\n",
       "      <td>0</td>\n",
       "      <td>0</td>\n",
       "    </tr>\n",
       "    <tr>\n",
       "      <th>1</th>\n",
       "      <td>4/14/2020 18:47:06</td>\n",
       "      <td>Cookstown</td>\n",
       "      <td>Walmart</td>\n",
       "      <td>No</td>\n",
       "      <td>Maybe</td>\n",
       "      <td>Pick Up</td>\n",
       "      <td>2</td>\n",
       "      <td>Almost never</td>\n",
       "      <td>Yes</td>\n",
       "      <td>5</td>\n",
       "      <td>Shopping at Foodland!</td>\n",
       "      <td>Can be expensive at smaller stores</td>\n",
       "      <td>NaN</td>\n",
       "      <td>0</td>\n",
       "      <td>0</td>\n",
       "      <td>0</td>\n",
       "      <td>0</td>\n",
       "      <td>1</td>\n",
       "      <td>0</td>\n",
       "      <td>0</td>\n",
       "    </tr>\n",
       "    <tr>\n",
       "      <th>2</th>\n",
       "      <td>4/14/2020 18:47:17</td>\n",
       "      <td>Cookstown</td>\n",
       "      <td>Foodland Cookstown</td>\n",
       "      <td>Yes</td>\n",
       "      <td>Yes</td>\n",
       "      <td>Delivery</td>\n",
       "      <td>2</td>\n",
       "      <td>Approximately once a month</td>\n",
       "      <td>Yes</td>\n",
       "      <td>5</td>\n",
       "      <td>Not happy with lack of local food available</td>\n",
       "      <td>NR</td>\n",
       "      <td>NaN</td>\n",
       "      <td>0</td>\n",
       "      <td>0</td>\n",
       "      <td>0</td>\n",
       "      <td>1</td>\n",
       "      <td>0</td>\n",
       "      <td>0</td>\n",
       "      <td>0</td>\n",
       "    </tr>\n",
       "    <tr>\n",
       "      <th>3</th>\n",
       "      <td>4/14/2020 19:01:45</td>\n",
       "      <td>Other</td>\n",
       "      <td>Sobey's Alcona</td>\n",
       "      <td>No</td>\n",
       "      <td>Yes</td>\n",
       "      <td>Pick Up</td>\n",
       "      <td>3</td>\n",
       "      <td>Almost never</td>\n",
       "      <td>Yes</td>\n",
       "      <td>4</td>\n",
       "      <td>Purchasing on a budget and visiting one shop i...</td>\n",
       "      <td>No health food stores such as Farm Boy or Good...</td>\n",
       "      <td>ampower97@gmail.com</td>\n",
       "      <td>0</td>\n",
       "      <td>0</td>\n",
       "      <td>0</td>\n",
       "      <td>0</td>\n",
       "      <td>0</td>\n",
       "      <td>1</td>\n",
       "      <td>0</td>\n",
       "    </tr>\n",
       "    <tr>\n",
       "      <th>4</th>\n",
       "      <td>4/14/2020 19:04:00</td>\n",
       "      <td>Cookstown</td>\n",
       "      <td>Cookstown Foodland</td>\n",
       "      <td>Yes</td>\n",
       "      <td>No</td>\n",
       "      <td>Pick Up</td>\n",
       "      <td>1</td>\n",
       "      <td>Approximately once a month</td>\n",
       "      <td>Yes</td>\n",
       "      <td>5</td>\n",
       "      <td>Only shopping once every week and a half since...</td>\n",
       "      <td>NR</td>\n",
       "      <td>NaN</td>\n",
       "      <td>0</td>\n",
       "      <td>0</td>\n",
       "      <td>0</td>\n",
       "      <td>1</td>\n",
       "      <td>0</td>\n",
       "      <td>0</td>\n",
       "      <td>0</td>\n",
       "    </tr>\n",
       "  </tbody>\n",
       "</table>\n",
       "</div>"
      ],
      "text/plain": [
       "                 date         Q1                   Q2   Q3     Q4        Q5  \\\n",
       "0  4/14/2020 18:43:01  Cookstown   Cookstown Foodland   No    Yes  Delivery   \n",
       "1  4/14/2020 18:47:06  Cookstown              Walmart   No  Maybe   Pick Up   \n",
       "2  4/14/2020 18:47:17  Cookstown  Foodland Cookstown   Yes    Yes  Delivery   \n",
       "3  4/14/2020 19:01:45      Other       Sobey's Alcona   No    Yes   Pick Up   \n",
       "4  4/14/2020 19:04:00  Cookstown  Cookstown Foodland   Yes     No   Pick Up   \n",
       "\n",
       "   Q6                          Q7   Q8  Q9  \\\n",
       "0   1          A few times a year  Yes   5   \n",
       "1   2                Almost never  Yes   5   \n",
       "2   2  Approximately once a month  Yes   5   \n",
       "3   3                Almost never  Yes   4   \n",
       "4   1  Approximately once a month  Yes   5   \n",
       "\n",
       "                                                 Q10  \\\n",
       "0                   More canned goods, potato chips    \n",
       "1                             Shopping at Foodland!    \n",
       "2       Not happy with lack of local food available    \n",
       "3  Purchasing on a budget and visiting one shop i...   \n",
       "4  Only shopping once every week and a half since...   \n",
       "\n",
       "                                                 Q11                email  \\\n",
       "0                                                 NR                  NaN   \n",
       "1                 Can be expensive at smaller stores                  NaN   \n",
       "2                                                 NR                  NaN   \n",
       "3  No health food stores such as Farm Boy or Good...  ampower97@gmail.com   \n",
       "4                                                 NR                  NaN   \n",
       "\n",
       "   Zehrs  Frills  Costco  Foodland  Walmart  Sobeys  Basic  \n",
       "0      0       0       0         1        0       0      0  \n",
       "1      0       0       0         0        1       0      0  \n",
       "2      0       0       0         1        0       0      0  \n",
       "3      0       0       0         0        0       1      0  \n",
       "4      0       0       0         1        0       0      0  "
      ]
     },
     "execution_count": 3,
     "metadata": {},
     "output_type": "execute_result"
    }
   ],
   "source": [
    "df.head()"
   ]
  },
  {
   "cell_type": "code",
   "execution_count": 4,
   "metadata": {},
   "outputs": [],
   "source": [
    "import seaborn as sns\n",
    "import matplotlib.pyplot as plt"
   ]
  },
  {
   "cell_type": "code",
   "execution_count": 50,
   "metadata": {},
   "outputs": [],
   "source": [
    "def sns_plotter(DF, col_name):\n",
    "    sns.countplot(DF[col_name])\n",
    "    plt.title(col_name)\n",
    "    if col_name == 'Q7':\n",
    "        plt.xticks(rotation = 90)\n",
    "    plt.savefig(col_name + '.png')"
   ]
  },
  {
   "cell_type": "code",
   "execution_count": 51,
   "metadata": {},
   "outputs": [
    {
     "data": {
      "image/png": "[encoded data removed]",
      "text/plain": [
       "<Figure size 432x288 with 1 Axes>"
      ]
     },
     "metadata": {
      "needs_background": "light"
     },
     "output_type": "display_data"
    }
   ],
   "source": [
    "sns_plotter(df, 'Q1')"
   ]
  },
  {
   "cell_type": "code",
   "execution_count": 39,
   "metadata": {},
   "outputs": [
    {
     "data": {
      "image/png": "[encoded data removed]",
      "text/plain": [
       "<Figure size 432x288 with 1 Axes>"
      ]
     },
     "metadata": {
      "needs_background": "light"
     },
     "output_type": "display_data"
    }
   ],
   "source": [
    "sns_plotter(df, 'Q3')"
   ]
  },
  {
   "cell_type": "code",
   "execution_count": 40,
   "metadata": {},
   "outputs": [
    {
     "data": {
      "image/png": "[encoded data removed]",
      "text/plain": [
       "<Figure size 432x288 with 1 Axes>"
      ]
     },
     "metadata": {
      "needs_background": "light"
     },
     "output_type": "display_data"
    }
   ],
   "source": [
    "sns_plotter(df, 'Q4')"
   ]
  },
  {
   "cell_type": "code",
   "execution_count": 41,
   "metadata": {},
   "outputs": [
    {
     "data": {
      "image/png": "[encoded data removed]",
      "text/plain": [
       "<Figure size 432x288 with 1 Axes>"
      ]
     },
     "metadata": {
      "needs_background": "light"
     },
     "output_type": "display_data"
    }
   ],
   "source": [
    "sns_plotter(df, 'Q5')"
   ]
  },
  {
   "cell_type": "code",
   "execution_count": 42,
   "metadata": {},
   "outputs": [
    {
     "data": {
      "image/png": "[encoded data removed]",
      "text/plain": [
       "<Figure size 432x288 with 1 Axes>"
      ]
     },
     "metadata": {
      "needs_background": "light"
     },
     "output_type": "display_data"
    }
   ],
   "source": [
    "sns_plotter(df, 'Q6')"
   ]
  },
  {
   "cell_type": "code",
   "execution_count": 43,
   "metadata": {},
   "outputs": [
    {
     "data": {
      "image/png": "[encoded data removed]",
      "text/plain": [
       "<Figure size 432x288 with 1 Axes>"
      ]
     },
     "metadata": {
      "needs_background": "light"
     },
     "output_type": "display_data"
    }
   ],
   "source": [
    "sns_plotter(df, 'Q7')"
   ]
  },
  {
   "cell_type": "code",
   "execution_count": 44,
   "metadata": {},
   "outputs": [
    {
     "data": {
      "image/png": "[encoded data removed]",
      "text/plain": [
       "<Figure size 432x288 with 1 Axes>"
      ]
     },
     "metadata": {
      "needs_background": "light"
     },
     "output_type": "display_data"
    }
   ],
   "source": [
    "sns_plotter(df, 'Q8')"
   ]
  },
  {
   "cell_type": "code",
   "execution_count": 45,
   "metadata": {},
   "outputs": [
    {
     "data": {
      "image/png": "[encoded data removed]",
      "text/plain": [
       "<Figure size 432x288 with 1 Axes>"
      ]
     },
     "metadata": {
      "needs_background": "light"
     },
     "output_type": "display_data"
    }
   ],
   "source": [
    "sns_plotter(df, 'Q9')"
   ]
  },
  {
   "cell_type": "code",
   "execution_count": null,
   "metadata": {},
   "outputs": [],
   "source": []
  },
  {
   "cell_type": "code",
   "execution_count": null,
   "metadata": {},
   "outputs": [],
   "source": []
  },
  {
   "cell_type": "code",
   "execution_count": null,
   "metadata": {},
   "outputs": [],
   "source": []
  }
 ],
 "metadata": {
  "kernelspec": {
   "display_name": "Python 3",
   "language": "python",
   "name": "python3"
  },
  "language_info": {
   "codemirror_mode": {
    "name": "ipython",
    "version": 3
   },
   "file_extension": ".py",
   "mimetype": "text/x-python",
   "name": "python",
   "nbconvert_exporter": "python",
   "pygments_lexer": "ipython3",
   "version": "3.7.6"
  }
 },
 "nbformat": 4,
 "nbformat_minor": 4
}
